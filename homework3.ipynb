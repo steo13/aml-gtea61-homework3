{
  "nbformat": 4,
  "nbformat_minor": 0,
  "metadata": {
    "colab": {
      "name": "exercise-II.ipynb",
      "provenance": [],
      "collapsed_sections": [
        "g1GznJhObXPk",
        "Gr9BxL8zeBfv"
      ],
      "include_colab_link": true
    },
    "kernelspec": {
      "display_name": "Python 3",
      "name": "python3"
    },
    "language_info": {
      "name": "python"
    },
    "accelerator": "GPU"
  },
  "cells": [
    {
      "cell_type": "markdown",
      "metadata": {
        "id": "view-in-github",
        "colab_type": "text"
      },
      "source": [
        "<a href=\"https://colab.research.google.com/github/steo13/aml-gtea61-homework2/blob/main/homework3.ipynb\" target=\"_parent\"><img src=\"https://colab.research.google.com/assets/colab-badge.svg\" alt=\"Open In Colab\"/></a>"
      ]
    },
    {
      "cell_type": "markdown",
      "metadata": {
        "id": "qf3z5SqWZ91b"
      },
      "source": [
        "# Torch "
      ]
    },
    {
      "cell_type": "code",
      "metadata": {
        "id": "YbtEmI1AiTkF"
      },
      "source": [
        "!pip3 install 'torch==1.3.1'\n",
        "!pip3 install 'torchvision==0.5.0'\n",
        "!pip3 install 'Pillow-SIMD'\n",
        "!pip3 install 'tqdm'\n",
        "!pip3 install \"colorama\""
      ],
      "execution_count": null,
      "outputs": []
    },
    {
      "cell_type": "code",
      "source": [
        "import torch\n",
        "#use GPU if available \n",
        "DEVICE = torch.device(\"cuda:0\" if torch.cuda.is_available() else \"cpu\") #'cpu' # 'cuda' or 'cpu'\n",
        "print(DEVICE)"
      ],
      "metadata": {
        "colab": {
          "base_uri": "https://localhost:8080/"
        },
        "id": "yLtEqB4Zs_lz",
        "outputId": "b5fb601e-f935-4065-95ae-ab45379e61c3"
      },
      "execution_count": 6,
      "outputs": [
        {
          "output_type": "stream",
          "name": "stdout",
          "text": [
            "cuda:0\n"
          ]
        }
      ]
    },
    {
      "cell_type": "markdown",
      "metadata": {
        "id": "czjvnq3FjBmh"
      },
      "source": [
        "# Download Dataset GTEA61"
      ]
    },
    {
      "cell_type": "code",
      "metadata": {
        "id": "BGOhXMNqjMed"
      },
      "source": [
        "from google.colab import drive\n",
        "import os\n",
        "#drive.mount('/content/drive')\n",
        "import sys, os\n",
        "           \n",
        "if not os.path.isfile('/content/GTEA61.zip'):\n",
        "  !gdown --id 1Z5RWA8yKIy0PvxMlScV-aAz22ITtivfk # 3-5 min\n",
        "  !jar xvf  \"/content/GTEA61.zip\"\n",
        "\n",
        "if not os.path.isdir('/content/GTEA61'):\n",
        "  print(\"Dataset doesn't exist\")\n",
        "\n",
        "#Weights\n",
        "if not os.path.isfile(\"/content/best_model_state_dict_rgb_split2.pth\"):\n",
        "  !gdown --id 1B7Xh6hQ9Py8fmL-pjmLzlCent6dnuex5 # 3-5 min\n"
      ],
      "execution_count": null,
      "outputs": []
    },
    {
      "cell_type": "markdown",
      "metadata": {
        "id": "Kk0rtAlnSlDF"
      },
      "source": [
        "\n",
        "# Download Code"
      ]
    },
    {
      "cell_type": "code",
      "metadata": {
        "id": "Z8xcWfReaSd_",
        "colab": {
          "base_uri": "https://localhost:8080/"
        },
        "outputId": "6a8e600e-0293-4090-8c90-0756adb39b18"
      },
      "source": [
        "!git clone \"https://github.com/plana93/Homework_AIML.git\" \n",
        "#!rm -r \"/content/Homework_AIML\""
      ],
      "execution_count": 1,
      "outputs": [
        {
          "output_type": "stream",
          "name": "stdout",
          "text": [
            "Cloning into 'Homework_AIML'...\n",
            "remote: Enumerating objects: 74, done.\u001b[K\n",
            "remote: Counting objects: 100% (74/74), done.\u001b[K\n",
            "remote: Compressing objects: 100% (53/53), done.\u001b[K\n",
            "remote: Total 74 (delta 34), reused 56 (delta 20), pack-reused 0\u001b[K\n",
            "Unpacking objects: 100% (74/74), done.\n"
          ]
        }
      ]
    },
    {
      "cell_type": "markdown",
      "metadata": {
        "id": "jiwWzjzSio-h"
      },
      "source": [
        "\n",
        "\n",
        "# Import Code\n"
      ]
    },
    {
      "cell_type": "code",
      "metadata": {
        "id": "wl6fSd3MXofW"
      },
      "source": [
        "import os\n",
        "import logging\n",
        "import torch\n",
        "import torch.nn as nn\n",
        "import torch.nn.functional as F\n",
        "import torch.optim as optim\n",
        "from torch.utils.data import DataLoader\n",
        "from torch.backends import cudnn\n",
        "import torchvision\n",
        "from colorama import init\n",
        "from colorama import Fore, Back, Style\n",
        "\n",
        "from torchvision.models import resnet34\n",
        "from PIL import Image\n",
        "from tqdm import tqdm\n",
        "import math\n",
        "import pandas as pd\n",
        "\n",
        "import sys\n",
        "sys.path.append(\"/content/Homework_AIML/\")\n",
        "import Homework_AIML\n",
        "from Homework_AIML import *\n",
        "\n",
        "from gtea_dataset import GTEA61, GTEA61_flow, GTEA61_2Stream\n",
        "from spatial_transforms import (Compose, ToTensor, CenterCrop, Scale, Normalize, MultiScaleCornerCrop,\n",
        "                                RandomHorizontalFlip)\n"
      ],
      "execution_count": 67,
      "outputs": []
    },
    {
      "cell_type": "markdown",
      "metadata": {
        "id": "g1GznJhObXPk"
      },
      "source": [
        "#**Learning without Temporal information** (avgpool)"
      ]
    },
    {
      "cell_type": "markdown",
      "metadata": {
        "id": "Sy4KrHClbAmC"
      },
      "source": [
        "#MAIN PARAMs"
      ]
    },
    {
      "cell_type": "code",
      "metadata": {
        "id": "w-tz9mHPbCYW"
      },
      "source": [
        "#homework_step = 0 #--> Learning without Temporal information (avgpool)\n",
        "#homework_step = 1 #--> Learning with Temporal information (LSTM)\n",
        "homework_step = 2 #--> Learning with Spatio-Temporal information (ConvLSTM)\n",
        "\n",
        "DATA_DIR = '/content/GTEA61/' #path dataset\n",
        "model_folder = '/content/saved_models/' + \"/\" + \"homework_step\"+ str(homework_step) + \"/\" #path to save model \n",
        "if not os.path.isdir(model_folder):\n",
        "    os.makedirs(model_folder)\n",
        "\n",
        "# All this param can be change!\n",
        "\n",
        "NUM_CLASSES = 61     \n",
        "BATCH_SIZE = 64 \n",
        "LR = 0.001           # The initial Learning Rate\n",
        "MOMENTUM = 0.9       # Hyperparameter for SGD, keep this at 0.9 when using SGD\n",
        "WEIGHT_DECAY = 4e-5  # Regularization, you can keep this at the default\n",
        "NUM_EPOCHS = 50     # Total number of training epochs (iterations over dataset)\n",
        "STEP_SIZE = [25, 75, 150] # How many epochs before decreasing learning rate (if using a step-down policy)\n",
        "GAMMA = 0.1          # Multiplicative factor for learning rate step-down\n",
        "MEM_SIZE = 512       # Dim of internal state of LSTM or ConvLSTM\n",
        "SEQ_LEN = 3          # Num Frames\n",
        "\n",
        "# this dictionary is needed for the logger class\n",
        "parameters = {'DEVICE':DEVICE, 'NUM_CLASSES':NUM_CLASSES, 'BATCH_SIZE':BATCH_SIZE,\n",
        "             'LR':LR, 'MOMENTUM':MOMENTUM, 'WEIGHT_DECAY':WEIGHT_DECAY, 'NUM_EPOCHS':NUM_EPOCHS,\n",
        "             'STEP_SIZE':STEP_SIZE, 'GAMMA':GAMMA, 'MEM_SIZE':MEM_SIZE, 'SEQ_LEN':SEQ_LEN}"
      ],
      "execution_count": 60,
      "outputs": []
    },
    {
      "cell_type": "markdown",
      "metadata": {
        "id": "UPwkOR8taVdN"
      },
      "source": [
        "#Dataloaders & Preprocessing"
      ]
    },
    {
      "cell_type": "code",
      "metadata": {
        "id": "LT_Gy79SgBLq"
      },
      "source": [
        "# Normalize\n",
        "normalize = Normalize(mean=[0.485, 0.456, 0.406], std=[0.229, 0.224, 0.225])\n",
        "spatial_transform = Compose([Scale(256), RandomHorizontalFlip(), MultiScaleCornerCrop([1, 0.875, 0.75, 0.65625], 224),\n",
        "                             ToTensor(), normalize])\n",
        "spatial_transform_val = Compose([Scale(256), CenterCrop(224), ToTensor(), normalize])\n"
      ],
      "execution_count": 61,
      "outputs": []
    },
    {
      "cell_type": "code",
      "metadata": {
        "colab": {
          "base_uri": "https://localhost:8080/"
        },
        "id": "T69vfGGhjKa_",
        "outputId": "dcb76745-60c5-4064-ab77-245fbb46abca"
      },
      "source": [
        "# Prepare Pytorch train/test Datasets\n",
        "train_dataset = GTEA61(DATA_DIR, split='train', transform=spatial_transform, seq_len=SEQ_LEN)\n",
        "test_dataset = GTEA61(DATA_DIR, split='test', transform=spatial_transform_val, seq_len=SEQ_LEN)\n",
        "\n",
        "# Check dataset sizes\n",
        "print('Train Dataset: {}'.format(len(train_dataset)))\n",
        "print('Test Dataset: {}'.format(len(test_dataset)))\n",
        "\n",
        "# Dataloaders iterate over pytorch datasets and transparently provide useful functions (e.g. parallelization and shuffling)\n",
        "train_loader = DataLoader(train_dataset, batch_size=BATCH_SIZE, shuffle=True, num_workers=4, drop_last=True)\n",
        "val_loader = DataLoader(test_dataset, batch_size=BATCH_SIZE, shuffle=False, num_workers=4)\n"
      ],
      "execution_count": 62,
      "outputs": [
        {
          "output_type": "stream",
          "name": "stdout",
          "text": [
            "['S1', 'S2', 'S3', 'S4']\n",
            "['S1', 'S2', 'S3', 'S4']\n",
            "Train Dataset: 341\n",
            "Test Dataset: 116\n"
          ]
        }
      ]
    },
    {
      "cell_type": "markdown",
      "metadata": {
        "id": "21wjiwvW-OPQ"
      },
      "source": [
        "#Model"
      ]
    },
    {
      "cell_type": "code",
      "metadata": {
        "id": "XMWuE-4SHxoY"
      },
      "source": [
        "import torch\n",
        "import resnetMod\n",
        "import torch.nn as nn\n",
        "from torch.nn import functional as F\n",
        "from torch.autograd import Variable\n",
        "\n",
        "# LSTM\n",
        "class MyLSTMCell(nn.Module):\n",
        "\n",
        "    def __init__(self, input_size, hidden_size):\n",
        "        super(MyLSTMCell, self).__init__()\n",
        "\n",
        "    def forward(self, x, state):\n",
        "        if state is None:\n",
        "            state = (Variable(torch.randn(x.size(0), x.size(1)).cuda()),\n",
        "                     Variable(torch.randn(x.size(0), x.size(1)).cuda()))\n",
        "            \n",
        "        ht_1, ct_1 = state\n",
        "        it = F.sigmoid(x + ht_1)\n",
        "        ft = F.sigmoid(x + ht_1)\n",
        "        ct_tilde = F.tanh(x + ht_1)\n",
        "        ct = (ct_tilde * it) + (ct_1 * ft)\n",
        "        ot = F.sigmoid(x + ht_1)\n",
        "        ht = ot * F.tanh(ct)\n",
        "        return ht, ct\n",
        "\n",
        "#ConvLSTM\n",
        "class MyConvLSTMCell(nn.Module):\n",
        "\n",
        "    def __init__(self, input_size, hidden_size, kernel_size=3, stride=1, padding=1):\n",
        "        super(MyConvLSTMCell, self).__init__()\n",
        "        self.input_size = input_size\n",
        "        self.hidden_size = hidden_size\n",
        "        self.kernel_size = kernel_size\n",
        "        self.stride = stride\n",
        "        self.padding = padding\n",
        "        self.conv_i_xx = nn.Conv2d(input_size, hidden_size, kernel_size=kernel_size, stride=stride, padding=padding)\n",
        "        self.conv_i_hh = nn.Conv2d(hidden_size, hidden_size, kernel_size=kernel_size, stride=stride, padding=padding,\n",
        "                                   bias=False)\n",
        "\n",
        "        self.conv_f_xx = nn.Conv2d(input_size, hidden_size, kernel_size=kernel_size, stride=stride, padding=padding)\n",
        "        self.conv_f_hh = nn.Conv2d(hidden_size, hidden_size, kernel_size=kernel_size, stride=stride, padding=padding,\n",
        "                                   bias=False)\n",
        "\n",
        "        self.conv_c_xx = nn.Conv2d(input_size, hidden_size, kernel_size=kernel_size, stride=stride, padding=padding)\n",
        "        self.conv_c_hh = nn.Conv2d(hidden_size, hidden_size, kernel_size=kernel_size, stride=stride, padding=padding,\n",
        "                                   bias=False)\n",
        "\n",
        "        self.conv_o_xx = nn.Conv2d(input_size, hidden_size, kernel_size=kernel_size, stride=stride, padding=padding)\n",
        "        self.conv_o_hh = nn.Conv2d(hidden_size, hidden_size, kernel_size=kernel_size, stride=stride, padding=padding,\n",
        "                                   bias=False)\n",
        "\n",
        "        torch.nn.init.xavier_normal_(self.conv_i_xx.weight)\n",
        "        torch.nn.init.constant_(self.conv_i_xx.bias, 0)\n",
        "        torch.nn.init.xavier_normal_(self.conv_i_hh.weight)\n",
        "\n",
        "        torch.nn.init.xavier_normal_(self.conv_f_xx.weight)\n",
        "        torch.nn.init.constant_(self.conv_f_xx.bias, 0)\n",
        "        torch.nn.init.xavier_normal_(self.conv_f_hh.weight)\n",
        "\n",
        "        torch.nn.init.xavier_normal_(self.conv_c_xx.weight)\n",
        "        torch.nn.init.constant_(self.conv_c_xx.bias, 0)\n",
        "        torch.nn.init.xavier_normal_(self.conv_c_hh.weight)\n",
        "\n",
        "        torch.nn.init.xavier_normal_(self.conv_o_xx.weight)\n",
        "        torch.nn.init.constant_(self.conv_o_xx.bias, 0)\n",
        "        torch.nn.init.xavier_normal_(self.conv_o_hh.weight)\n",
        "\n",
        "    def forward(self, x, state):\n",
        "        if state is None:\n",
        "            state = (Variable(torch.randn(x.size(0), x.size(1), x.size(2), x.size(3)).cuda()),\n",
        "                     Variable(torch.randn(x.size(0), x.size(1), x.size(2), x.size(3)).cuda()))\n",
        "        \n",
        "        ht_1, ct_1 = state\n",
        "        it = F.sigmoid(self.conv_i_xx(x) + self.conv_i_hh(ht_1))\n",
        "        ft = F.sigmoid(self.conv_f_xx(x) + self.conv_f_hh(ht_1))\n",
        "        ct_tilde = F.tanh(self.conv_c_xx(x) + self.conv_c_hh(ht_1))\n",
        "        ct = (ct_tilde * it) + (ct_1 * ft)\n",
        "        ot = F.sigmoid(self.conv_o_xx(x) + self.conv_o_hh(ht_1))\n",
        "        ht = ot * F.tanh(ct)\n",
        "        return ht, ct\n",
        "\n",
        "#Network \n",
        "class ourModel(nn.Module):\n",
        "    def __init__(self, num_classes=61, mem_size=512, homework_step = 0 , DEVICE=\"\"):\n",
        "        super(ourModel, self).__init__()\n",
        "        self.DEVICE = DEVICE\n",
        "        self.num_classes = num_classes\n",
        "        self.resNet = resnetMod.resnet34(True, True)\n",
        "        self.mem_size = mem_size\n",
        "        self.weight_softmax = self.resNet.fc.weight\n",
        "        self.homework_step = homework_step\n",
        "        if self.homework_step == 1:\n",
        "          self.lstm_cell = MyLSTMCell(512, mem_size)\n",
        "        elif self.homework_step == 2:\n",
        "          self.lstm_cell = MyConvLSTMCell(512, mem_size)\n",
        "\n",
        "        self.avgpool = nn.AvgPool2d(7)\n",
        "        self.dropout = nn.Dropout(0.7)\n",
        "        self.fc = nn.Linear(mem_size, self.num_classes)\n",
        "        self.classifier = nn.Sequential(self.dropout, self.fc)\n",
        "\n",
        "    def forward(self, inputVariable):\n",
        "        #Learning without Temporal information (mean)\n",
        "        if self.homework_step == 0:\n",
        "            video_level_features = torch.zeros((inputVariable.size(1), self.mem_size)).to(self.DEVICE)\n",
        "            for t in range(inputVariable.size(0)):\n",
        "                #spatial_frame_feat: (bs, 512, 7, 7)\n",
        "                _, spatial_frame_feat, _ = self.resNet(inputVariable[t])\n",
        "                #frames_feat: (bs, 512)\n",
        "                frame_feat = self.avgpool(spatial_frame_feat).view(spatial_frame_feat.size(0), -1)\n",
        "                video_level_features = video_level_features + frame_feat\n",
        "\n",
        "            video_level_features = video_level_features / inputVariable.size(0)\n",
        "            logits = self.classifier(video_level_features)\n",
        "            return logits, video_level_features\n",
        "\n",
        "        #Learning with Temporal information (LSTM)\n",
        "        elif self.homework_step == 1:\n",
        "            state = ( torch.zeros((inputVariable.size(1), self.mem_size)).to(self.DEVICE),\n",
        "                     torch.zeros((inputVariable.size(1), self.mem_size)).to(self.DEVICE) ) \n",
        "            for t in range(inputVariable.size(0)):\n",
        "                #spatial_frame_feat: (bs, 512, 7, 7)\n",
        "                _, spatial_frame_feat, _ = self.resNet(inputVariable[t])\n",
        "                #frames_feat: (bs, 512)\n",
        "                frame_feat = self.avgpool(spatial_frame_feat).view(state[1].size(0), -1)\n",
        "                state = self.lstm_cell(frame_feat, state)\n",
        "\n",
        "            video_level_features = state[1]\n",
        "            logits = self.classifier(video_level_features)\n",
        "            return logits, video_level_features\n",
        "\n",
        "        #Learning with Temporal information (ConvLSTM)\n",
        "        elif self.homework_step == 2:\n",
        "            state = (torch.zeros((inputVariable.size(1), self.mem_size, 7, 7)).to(self.DEVICE),\n",
        "                     torch.zeros((inputVariable.size(1), self.mem_size, 7, 7)).to(self.DEVICE))\n",
        "            for t in range(inputVariable.size(0)):\n",
        "                #spatial_frame_feat: (bs, 512, 7, 7)\n",
        "                _, spatial_frame_feat, _ = self.resNet(inputVariable[t])\n",
        "                state = self.lstm_cell(spatial_frame_feat, state)\n",
        "            video_level_features = self.avgpool(state[1]).view(state[1].size(0), -1)\n",
        "            logits = self.classifier(video_level_features)\n",
        "            return logits, video_level_features"
      ],
      "execution_count": 63,
      "outputs": []
    },
    {
      "cell_type": "markdown",
      "metadata": {
        "id": "Ru8vllrMbgvL"
      },
      "source": [
        "#Build Model - Loss - Opt"
      ]
    },
    {
      "cell_type": "code",
      "metadata": {
        "id": "XZe-ZbEL7z3x"
      },
      "source": [
        "#CUDA_LAUNCH_BLOCKING=1\n",
        "validate = True\n",
        "\n",
        "model = ourModel(num_classes=NUM_CLASSES, mem_size=MEM_SIZE, homework_step=homework_step, DEVICE=DEVICE) #model\n",
        "\n",
        "#Train only the lstm cell and classifier\n",
        "model.train(False)\n",
        "for params in model.parameters():\n",
        "    params.requires_grad = False\n",
        "\n",
        "if homework_step > 0:\n",
        "    for params in model.lstm_cell.parameters():\n",
        "        params.requires_grad = True\n",
        "    model.lstm_cell.train(True)\n",
        "\n",
        "for params in model.classifier.parameters():\n",
        "    params.requires_grad = True\n",
        "model.classifier.train(True)\n",
        "\n",
        "model = model.to(DEVICE)\n",
        "\n",
        "model.load_state_dict(torch.load(\"/content/best_model_state_dict_rgb_split2.pth\", map_location=torch.device('cpu')), strict=True)\n",
        "\n",
        "#Loss\n",
        "loss_fn = nn.CrossEntropyLoss()\n",
        "#Opt\n",
        "trainable_params = [p for p in model.parameters() if p.requires_grad]\n",
        "optimizer_fn = optim.Adam(trainable_params, lr=LR, weight_decay=WEIGHT_DECAY, eps=1e-4)\n",
        "#Scheduler\n",
        "optim_scheduler = optim.lr_scheduler.MultiStepLR(optimizer_fn, milestones=STEP_SIZE, gamma=GAMMA)\n"
      ],
      "execution_count": 64,
      "outputs": []
    },
    {
      "cell_type": "markdown",
      "metadata": {
        "id": "z0MWgLingzhw"
      },
      "source": [
        "#Training\n"
      ]
    },
    {
      "cell_type": "code",
      "metadata": {
        "id": "p-uE2A9eHmtn",
        "colab": {
          "base_uri": "https://localhost:8080/"
        },
        "outputId": "b033dc05-b3ec-4692-c8eb-ef5e222daf0a"
      },
      "source": [
        "train_iter = 0\n",
        "val_iter = 0\n",
        "min_accuracy = 0\n",
        "\n",
        "trainSamples = len(train_dataset) - (len(train_dataset) % BATCH_SIZE)\n",
        "val_samples = len(test_dataset) \n",
        "iterPerEpoch = len(train_loader)\n",
        "val_steps = len(val_loader)\n",
        "cudnn.benchmark\n",
        "model_checkpoint = \"model\" #name\n",
        "\n",
        "val_accuracies = []\n",
        "val_losses = []\n",
        "train_accuracies = []\n",
        "train_losses = []\n",
        "\n",
        "for epoch in range(NUM_EPOCHS):\n",
        "    epoch_loss = 0\n",
        "    numCorrTrain = 0\n",
        "    \n",
        "    #blocks to train\n",
        "    if homework_step > 0:\n",
        "        model.lstm_cell.train(True)\n",
        "    model.classifier.train(True)\n",
        "    \n",
        "    \n",
        "    for i, (inputs, targets) in enumerate(train_loader):\n",
        "        train_iter += 1\n",
        "        optimizer_fn.zero_grad()\n",
        "        \n",
        "        # (BS, Frames, C, W, H) --> (Frames, BS, C, W, H)\n",
        "        inputVariable = inputs.permute(1, 0, 2, 3, 4).to(DEVICE)\n",
        "        labelVariable = targets.to(DEVICE)\n",
        "\n",
        "        # feeds in model\n",
        "        output_label, _ = model(inputVariable)\n",
        "        \n",
        "        # compute loss \n",
        "        loss = loss_fn(output_label, labelVariable)\n",
        "\n",
        "        # backward loss and optimizer step \n",
        "        loss.backward()\n",
        "        optimizer_fn.step()\n",
        "        \n",
        "        #compute the training accuracy \n",
        "        _, predicted = torch.max(output_label.data, 1)\n",
        "        numCorrTrain += torch.sum(predicted == labelVariable.data).data.item()\n",
        "        step_loss = loss.data.item()\n",
        "        epoch_loss += step_loss\n",
        "    \n",
        "    avg_loss = epoch_loss/iterPerEpoch\n",
        "    trainAccuracy = (numCorrTrain / trainSamples) * 100\n",
        "    train_accuracies.append(trainAccuracy)\n",
        "    train_losses.append(avg_loss)\n",
        "\n",
        "    #train_logger.add_epoch_data(epoch+1, trainAccuracy, avg_loss)\n",
        "    print(Fore.BLACK + 'Train: Epoch = {} | Loss = {:.3f} | Accuracy = {:.3f}'.format(epoch+1, avg_loss, trainAccuracy))\n",
        "    if validate:\n",
        "        if (epoch+1) % 1 == 0:\n",
        "            model.train(False)\n",
        "            val_loss_epoch = 0\n",
        "            numCorr = 0\n",
        "            for j, (inputs, targets) in enumerate(val_loader):\n",
        "                val_iter += 1\n",
        "                inputVariable = inputs.permute(1, 0, 2, 3, 4).to(DEVICE)\n",
        "                labelVariable = targets.to(DEVICE)\n",
        "                \n",
        "                output_label, _ = model(inputVariable)\n",
        "                val_loss = loss_fn(output_label, labelVariable)\n",
        "                val_loss_step = val_loss.data.item()\n",
        "                val_loss_epoch += val_loss_step\n",
        "                _, predicted = torch.max(output_label.data, 1)\n",
        "                numCorr += torch.sum(predicted == labelVariable.data).data.item()\n",
        "                #val_logger.add_step_data(val_iter, numCorr, val_loss_step)\n",
        "                \n",
        "            val_accuracy = (numCorr / val_samples) * 100\n",
        "            val_accuracies.append(val_accuracy)\n",
        "            avg_val_loss = val_loss_epoch / val_steps\n",
        "            val_losses.append(avg_val_loss)\n",
        "\n",
        "            print(Fore.GREEN + 'Val: Epoch = {} | Loss {:.3f} | Accuracy = {:.3f}'.format(epoch + 1, avg_val_loss, val_accuracy))\n",
        "            if val_accuracy > min_accuracy:\n",
        "                print(\"[||| NEW BEST on val||||]\")\n",
        "                save_path_model = os.path.join(model_folder, model_checkpoint)\n",
        "                torch.save(model.state_dict(), save_path_model)\n",
        "                min_accuracy = val_accuracy\n",
        "    \n",
        "    optim_scheduler.step()\n",
        "\n",
        "print(Fore.CYAN + \"Best Acc --> \", min_accuracy)\n",
        "print(Fore.CYAN + \"Last Acc --> \", val_accuracy)\n"
      ],
      "execution_count": 65,
      "outputs": [
        {
          "output_type": "stream",
          "name": "stderr",
          "text": [
            "/usr/local/lib/python3.7/dist-packages/torch/nn/functional.py:1351: UserWarning: nn.functional.sigmoid is deprecated. Use torch.sigmoid instead.\n",
            "  warnings.warn(\"nn.functional.sigmoid is deprecated. Use torch.sigmoid instead.\")\n",
            "/usr/local/lib/python3.7/dist-packages/torch/nn/functional.py:1340: UserWarning: nn.functional.tanh is deprecated. Use torch.tanh instead.\n",
            "  warnings.warn(\"nn.functional.tanh is deprecated. Use torch.tanh instead.\")\n"
          ]
        },
        {
          "output_type": "stream",
          "name": "stdout",
          "text": [
            "\u001b[30mTrain: Epoch = 1 | Loss = 4.438 | Accuracy = 9.688\n",
            "\u001b[32mVal: Epoch = 1 | Loss 2.755 | Accuracy = 29.310\n",
            "[||| NEW BEST on val||||]\n",
            "\u001b[30mTrain: Epoch = 2 | Loss = 3.294 | Accuracy = 19.062\n",
            "\u001b[32mVal: Epoch = 2 | Loss 2.636 | Accuracy = 26.724\n",
            "\u001b[30mTrain: Epoch = 3 | Loss = 3.092 | Accuracy = 22.500\n",
            "\u001b[32mVal: Epoch = 3 | Loss 2.628 | Accuracy = 22.414\n",
            "\u001b[30mTrain: Epoch = 4 | Loss = 2.897 | Accuracy = 21.562\n",
            "\u001b[32mVal: Epoch = 4 | Loss 2.408 | Accuracy = 32.759\n",
            "[||| NEW BEST on val||||]\n",
            "\u001b[30mTrain: Epoch = 5 | Loss = 2.763 | Accuracy = 24.375\n",
            "\u001b[32mVal: Epoch = 5 | Loss 2.419 | Accuracy = 33.621\n",
            "[||| NEW BEST on val||||]\n",
            "\u001b[30mTrain: Epoch = 6 | Loss = 2.745 | Accuracy = 26.875\n",
            "\u001b[32mVal: Epoch = 6 | Loss 2.282 | Accuracy = 31.034\n",
            "\u001b[30mTrain: Epoch = 7 | Loss = 2.614 | Accuracy = 28.750\n",
            "\u001b[32mVal: Epoch = 7 | Loss 2.332 | Accuracy = 32.759\n",
            "\u001b[30mTrain: Epoch = 8 | Loss = 2.401 | Accuracy = 30.625\n",
            "\u001b[32mVal: Epoch = 8 | Loss 2.181 | Accuracy = 35.345\n",
            "[||| NEW BEST on val||||]\n",
            "\u001b[30mTrain: Epoch = 9 | Loss = 2.415 | Accuracy = 35.000\n",
            "\u001b[32mVal: Epoch = 9 | Loss 2.235 | Accuracy = 35.345\n",
            "\u001b[30mTrain: Epoch = 10 | Loss = 2.443 | Accuracy = 31.250\n",
            "\u001b[32mVal: Epoch = 10 | Loss 2.182 | Accuracy = 37.069\n",
            "[||| NEW BEST on val||||]\n",
            "\u001b[30mTrain: Epoch = 11 | Loss = 2.440 | Accuracy = 29.688\n",
            "\u001b[32mVal: Epoch = 11 | Loss 2.128 | Accuracy = 40.517\n",
            "[||| NEW BEST on val||||]\n",
            "\u001b[30mTrain: Epoch = 12 | Loss = 2.360 | Accuracy = 31.250\n",
            "\u001b[32mVal: Epoch = 12 | Loss 2.157 | Accuracy = 37.069\n",
            "\u001b[30mTrain: Epoch = 13 | Loss = 2.227 | Accuracy = 34.375\n",
            "\u001b[32mVal: Epoch = 13 | Loss 2.128 | Accuracy = 38.793\n",
            "\u001b[30mTrain: Epoch = 14 | Loss = 2.224 | Accuracy = 36.562\n",
            "\u001b[32mVal: Epoch = 14 | Loss 2.110 | Accuracy = 39.655\n",
            "\u001b[30mTrain: Epoch = 15 | Loss = 2.240 | Accuracy = 35.312\n",
            "\u001b[32mVal: Epoch = 15 | Loss 2.104 | Accuracy = 42.241\n",
            "[||| NEW BEST on val||||]\n",
            "\u001b[30mTrain: Epoch = 16 | Loss = 2.125 | Accuracy = 42.188\n",
            "\u001b[32mVal: Epoch = 16 | Loss 2.045 | Accuracy = 40.517\n",
            "\u001b[30mTrain: Epoch = 17 | Loss = 2.133 | Accuracy = 38.750\n",
            "\u001b[32mVal: Epoch = 17 | Loss 2.016 | Accuracy = 44.828\n",
            "[||| NEW BEST on val||||]\n",
            "\u001b[30mTrain: Epoch = 18 | Loss = 2.115 | Accuracy = 40.938\n",
            "\u001b[32mVal: Epoch = 18 | Loss 2.026 | Accuracy = 42.241\n",
            "\u001b[30mTrain: Epoch = 19 | Loss = 2.203 | Accuracy = 40.000\n",
            "\u001b[32mVal: Epoch = 19 | Loss 1.995 | Accuracy = 41.379\n",
            "\u001b[30mTrain: Epoch = 20 | Loss = 2.056 | Accuracy = 39.375\n",
            "\u001b[32mVal: Epoch = 20 | Loss 2.006 | Accuracy = 43.966\n",
            "\u001b[30mTrain: Epoch = 21 | Loss = 2.082 | Accuracy = 38.750\n",
            "\u001b[32mVal: Epoch = 21 | Loss 2.029 | Accuracy = 40.517\n",
            "\u001b[30mTrain: Epoch = 22 | Loss = 1.969 | Accuracy = 42.812\n",
            "\u001b[32mVal: Epoch = 22 | Loss 2.098 | Accuracy = 42.241\n",
            "\u001b[30mTrain: Epoch = 23 | Loss = 1.975 | Accuracy = 42.188\n",
            "\u001b[32mVal: Epoch = 23 | Loss 1.904 | Accuracy = 43.103\n",
            "\u001b[30mTrain: Epoch = 24 | Loss = 1.973 | Accuracy = 45.312\n",
            "\u001b[32mVal: Epoch = 24 | Loss 2.050 | Accuracy = 42.241\n",
            "\u001b[30mTrain: Epoch = 25 | Loss = 1.962 | Accuracy = 42.500\n",
            "\u001b[32mVal: Epoch = 25 | Loss 1.954 | Accuracy = 43.103\n",
            "\u001b[30mTrain: Epoch = 26 | Loss = 1.938 | Accuracy = 45.000\n",
            "\u001b[32mVal: Epoch = 26 | Loss 1.954 | Accuracy = 43.103\n",
            "\u001b[30mTrain: Epoch = 27 | Loss = 1.943 | Accuracy = 41.562\n",
            "\u001b[32mVal: Epoch = 27 | Loss 1.967 | Accuracy = 43.966\n",
            "\u001b[30mTrain: Epoch = 28 | Loss = 1.806 | Accuracy = 48.125\n",
            "\u001b[32mVal: Epoch = 28 | Loss 1.982 | Accuracy = 44.828\n",
            "\u001b[30mTrain: Epoch = 29 | Loss = 1.742 | Accuracy = 50.938\n",
            "\u001b[32mVal: Epoch = 29 | Loss 1.950 | Accuracy = 46.552\n",
            "[||| NEW BEST on val||||]\n",
            "\u001b[30mTrain: Epoch = 30 | Loss = 1.857 | Accuracy = 43.750\n",
            "\u001b[32mVal: Epoch = 30 | Loss 1.898 | Accuracy = 45.690\n",
            "\u001b[30mTrain: Epoch = 31 | Loss = 1.782 | Accuracy = 46.250\n",
            "\u001b[32mVal: Epoch = 31 | Loss 1.870 | Accuracy = 45.690\n",
            "\u001b[30mTrain: Epoch = 32 | Loss = 1.757 | Accuracy = 49.062\n",
            "\u001b[32mVal: Epoch = 32 | Loss 1.866 | Accuracy = 48.276\n",
            "[||| NEW BEST on val||||]\n",
            "\u001b[30mTrain: Epoch = 33 | Loss = 1.735 | Accuracy = 48.125\n",
            "\u001b[32mVal: Epoch = 33 | Loss 1.870 | Accuracy = 49.138\n",
            "[||| NEW BEST on val||||]\n",
            "\u001b[30mTrain: Epoch = 34 | Loss = 1.630 | Accuracy = 50.313\n",
            "\u001b[32mVal: Epoch = 34 | Loss 1.881 | Accuracy = 47.414\n",
            "\u001b[30mTrain: Epoch = 35 | Loss = 1.720 | Accuracy = 51.875\n",
            "\u001b[32mVal: Epoch = 35 | Loss 1.892 | Accuracy = 46.552\n",
            "\u001b[30mTrain: Epoch = 36 | Loss = 1.758 | Accuracy = 45.312\n",
            "\u001b[32mVal: Epoch = 36 | Loss 1.911 | Accuracy = 46.552\n",
            "\u001b[30mTrain: Epoch = 37 | Loss = 1.569 | Accuracy = 51.250\n",
            "\u001b[32mVal: Epoch = 37 | Loss 1.898 | Accuracy = 44.828\n",
            "\u001b[30mTrain: Epoch = 38 | Loss = 1.707 | Accuracy = 50.938\n",
            "\u001b[32mVal: Epoch = 38 | Loss 1.885 | Accuracy = 45.690\n",
            "\u001b[30mTrain: Epoch = 39 | Loss = 1.648 | Accuracy = 50.625\n",
            "\u001b[32mVal: Epoch = 39 | Loss 1.865 | Accuracy = 49.138\n",
            "\u001b[30mTrain: Epoch = 40 | Loss = 1.691 | Accuracy = 50.938\n",
            "\u001b[32mVal: Epoch = 40 | Loss 1.864 | Accuracy = 46.552\n",
            "\u001b[30mTrain: Epoch = 41 | Loss = 1.659 | Accuracy = 51.875\n",
            "\u001b[32mVal: Epoch = 41 | Loss 1.871 | Accuracy = 46.552\n",
            "\u001b[30mTrain: Epoch = 42 | Loss = 1.597 | Accuracy = 52.812\n",
            "\u001b[32mVal: Epoch = 42 | Loss 1.847 | Accuracy = 48.276\n",
            "\u001b[30mTrain: Epoch = 43 | Loss = 1.660 | Accuracy = 49.688\n",
            "\u001b[32mVal: Epoch = 43 | Loss 1.833 | Accuracy = 48.276\n",
            "\u001b[30mTrain: Epoch = 44 | Loss = 1.578 | Accuracy = 53.125\n",
            "\u001b[32mVal: Epoch = 44 | Loss 1.829 | Accuracy = 50.000\n",
            "[||| NEW BEST on val||||]\n",
            "\u001b[30mTrain: Epoch = 45 | Loss = 1.763 | Accuracy = 46.875\n",
            "\u001b[32mVal: Epoch = 45 | Loss 1.831 | Accuracy = 49.138\n",
            "\u001b[30mTrain: Epoch = 46 | Loss = 1.642 | Accuracy = 50.938\n",
            "\u001b[32mVal: Epoch = 46 | Loss 1.839 | Accuracy = 46.552\n",
            "\u001b[30mTrain: Epoch = 47 | Loss = 1.693 | Accuracy = 48.750\n",
            "\u001b[32mVal: Epoch = 47 | Loss 1.844 | Accuracy = 46.552\n",
            "\u001b[30mTrain: Epoch = 48 | Loss = 1.728 | Accuracy = 47.500\n",
            "\u001b[32mVal: Epoch = 48 | Loss 1.843 | Accuracy = 45.690\n",
            "\u001b[30mTrain: Epoch = 49 | Loss = 1.552 | Accuracy = 54.688\n",
            "\u001b[32mVal: Epoch = 49 | Loss 1.845 | Accuracy = 45.690\n",
            "\u001b[30mTrain: Epoch = 50 | Loss = 1.603 | Accuracy = 48.750\n",
            "\u001b[32mVal: Epoch = 50 | Loss 1.845 | Accuracy = 46.552\n",
            "\u001b[36mBest Acc -->  50.0\n",
            "\u001b[36mLast Acc -->  46.55172413793103\n"
          ]
        }
      ]
    },
    {
      "cell_type": "code",
      "source": [
        "print(\"Best accuracies on the validation set: \", min_accuracy)\n",
        "\n",
        "results_df = pd.DataFrame(zip(range(1,NUM_EPOCHS+1), train_accuracies, val_accuracies, train_losses, val_losses), columns = [\"epoch\", \"train_accuracy\", \"val_accuracy\", \"train_loss\", \"val_loss\"])\n",
        "results_df.set_index(\"epoch\")\n",
        "results_df.plot(x = \"epoch\", y = [\"train_accuracy\", \"val_accuracy\"])\n",
        "results_df.plot(x = \"epoch\", y = [\"train_loss\", \"val_loss\"])"
      ],
      "metadata": {
        "colab": {
          "base_uri": "https://localhost:8080/",
          "height": 576
        },
        "id": "9EF-XvyXeH63",
        "outputId": "a4287451-f0d3-4452-c4b4-906f830948c2"
      },
      "execution_count": 68,
      "outputs": [
        {
          "output_type": "stream",
          "name": "stdout",
          "text": [
            "Best accuracies on the validation set:  50.0\n"
          ]
        },
        {
          "output_type": "execute_result",
          "data": {
            "text/plain": [
              "<matplotlib.axes._subplots.AxesSubplot at 0x7f015a49ddd0>"
            ]
          },
          "metadata": {},
          "execution_count": 68
        },
        {
          "output_type": "display_data",
          "data": {
            "image/png": "[encoded data removed]",
            "text/plain": [
              "<Figure size 432x288 with 1 Axes>"
            ]
          },
          "metadata": {
            "needs_background": "light"
          }
        },
        {
          "output_type": "display_data",
          "data": {
            "image/png": "[encoded data removed]",
            "text/plain": [
              "<Figure size 432x288 with 1 Axes>"
            ]
          },
          "metadata": {
            "needs_background": "light"
          }
        }
      ]
    },
    {
      "cell_type": "markdown",
      "metadata": {
        "id": "lrLs_T2Qd0kc"
      },
      "source": [
        "#Test"
      ]
    },
    {
      "cell_type": "code",
      "metadata": {
        "id": "gqK1ExB0cl8D",
        "colab": {
          "base_uri": "https://localhost:8080/"
        },
        "outputId": "1ad5c9ff-f6fb-475b-8944-62de96fbb1eb"
      },
      "source": [
        "model.train(False)\n",
        "val_loss_epoch = 0\n",
        "numCorr = 0\n",
        "val_iter = 0\n",
        "val_samples = len(test_dataset) \n",
        "val_steps = len(val_loader)\n",
        "\n",
        "with torch.no_grad():\n",
        "    for j, (inputs, targets) in enumerate(val_loader):\n",
        "        val_iter += 1\n",
        "        inputVariable = inputs.permute(1, 0, 2, 3, 4).to(DEVICE)\n",
        "        labelVariable = targets.to(DEVICE)\n",
        "        \n",
        "        output_label, _ = model(inputVariable)\n",
        "        val_loss = loss_fn(output_label, labelVariable)\n",
        "        val_loss_step = val_loss.data.item()\n",
        "        val_loss_epoch += val_loss_step\n",
        "        _, predicted = torch.max(output_label.data, 1)\n",
        "        numCorr += torch.sum(predicted == labelVariable.data).data.item()\n",
        "        \n",
        "    val_accuracy = (numCorr / val_samples) * 100\n",
        "    avg_val_loss = val_loss_epoch / val_steps\n",
        "\n",
        "print('Loss {:.3f} | Accuracy = {:.3f}'.format(avg_val_loss, val_accuracy))"
      ],
      "execution_count": 69,
      "outputs": [
        {
          "output_type": "stream",
          "name": "stderr",
          "text": [
            "/usr/local/lib/python3.7/dist-packages/torch/nn/functional.py:1351: UserWarning: nn.functional.sigmoid is deprecated. Use torch.sigmoid instead.\n",
            "  warnings.warn(\"nn.functional.sigmoid is deprecated. Use torch.sigmoid instead.\")\n",
            "/usr/local/lib/python3.7/dist-packages/torch/nn/functional.py:1340: UserWarning: nn.functional.tanh is deprecated. Use torch.tanh instead.\n",
            "  warnings.warn(\"nn.functional.tanh is deprecated. Use torch.tanh instead.\")\n"
          ]
        },
        {
          "output_type": "stream",
          "name": "stdout",
          "text": [
            "Loss 1.845 | Accuracy = 46.552\n"
          ]
        }
      ]
    }
  ]
}